{
 "cells": [
  {
   "cell_type": "markdown",
   "id": "e669fc68",
   "metadata": {},
   "source": [
    "# Import libraries"
   ]
  },
  {
   "cell_type": "code",
   "execution_count": 1,
   "id": "4ee6522c",
   "metadata": {},
   "outputs": [],
   "source": [
    "import pandas as pd\n",
    "pd.set_option('display.max_columns', 0)\n",
    "pd.options.display.float_format = '{:.2f}'.format\n",
    "from pandas_profiling import ProfileReport\n",
    "import numpy as np\n",
    "import matplotlib.pyplot as plt\n",
    "%matplotlib inline\n",
    "import seaborn as sns\n",
    "from datetime import datetime as dt"
   ]
  },
  {
   "cell_type": "markdown",
   "id": "1e3f1a59",
   "metadata": {},
   "source": [
    "# Import dataset"
   ]
  },
  {
   "cell_type": "code",
   "execution_count": 2,
   "id": "eedc02a5",
   "metadata": {},
   "outputs": [
    {
     "data": {
      "text/html": [
       "<div>\n",
       "<style scoped>\n",
       "    .dataframe tbody tr th:only-of-type {\n",
       "        vertical-align: middle;\n",
       "    }\n",
       "\n",
       "    .dataframe tbody tr th {\n",
       "        vertical-align: top;\n",
       "    }\n",
       "\n",
       "    .dataframe thead th {\n",
       "        text-align: right;\n",
       "    }\n",
       "</style>\n",
       "<table border=\"1\" class=\"dataframe\">\n",
       "  <thead>\n",
       "    <tr style=\"text-align: right;\">\n",
       "      <th></th>\n",
       "      <th>Date</th>\n",
       "      <th>Acres Burned</th>\n",
       "      <th>Number of Fires</th>\n",
       "      <th>Acres Burned per Fire</th>\n",
       "    </tr>\n",
       "  </thead>\n",
       "  <tbody>\n",
       "    <tr>\n",
       "      <th>0</th>\n",
       "      <td>U.S. Wildfires Year-to-Date</td>\n",
       "      <td>NaN</td>\n",
       "      <td>NaN</td>\n",
       "      <td>NaN</td>\n",
       "    </tr>\n",
       "    <tr>\n",
       "      <th>1</th>\n",
       "      <td>Date</td>\n",
       "      <td>Acres Burned</td>\n",
       "      <td>Number of Fires</td>\n",
       "      <td>Acres Burned per Fire</td>\n",
       "    </tr>\n",
       "    <tr>\n",
       "      <th>2</th>\n",
       "      <td>200001</td>\n",
       "      <td>40757</td>\n",
       "      <td>2796</td>\n",
       "      <td>14.58</td>\n",
       "    </tr>\n",
       "    <tr>\n",
       "      <th>3</th>\n",
       "      <td>200002</td>\n",
       "      <td>208967</td>\n",
       "      <td>8467</td>\n",
       "      <td>24.68</td>\n",
       "    </tr>\n",
       "    <tr>\n",
       "      <th>4</th>\n",
       "      <td>200003</td>\n",
       "      <td>549866</td>\n",
       "      <td>18779</td>\n",
       "      <td>29.28</td>\n",
       "    </tr>\n",
       "  </tbody>\n",
       "</table>\n",
       "</div>"
      ],
      "text/plain": [
       "                          Date  Acres Burned  Number of Fires  Acres Burned per Fire\n",
       "0  U.S. Wildfires Year-to-Date           NaN              NaN                    NaN\n",
       "1                         Date  Acres Burned  Number of Fires  Acres Burned per Fire\n",
       "2                       200001         40757             2796                  14.58\n",
       "3                       200002        208967             8467                  24.68\n",
       "4                       200003        549866            18779                  29.28"
      ]
     },
     "execution_count": 2,
     "metadata": {},
     "output_type": "execute_result"
    }
   ],
   "source": [
    "fires = pd.read_csv(\"csv_files/data.csv\", names = [\"Date\", \"Acres Burned\", \"Number of Fires\", \"Acres Burned per Fire\"])\n",
    "fires.head()"
   ]
  },
  {
   "cell_type": "markdown",
   "id": "17594963",
   "metadata": {},
   "source": [
    "# Clean Data"
   ]
  },
  {
   "cell_type": "code",
   "execution_count": 3,
   "id": "b20f1e69",
   "metadata": {},
   "outputs": [
    {
     "data": {
      "text/plain": [
       "Index(['Date', 'Acres Burned', 'Number of Fires', 'Acres Burned per Fire'], dtype='object')"
      ]
     },
     "execution_count": 3,
     "metadata": {},
     "output_type": "execute_result"
    }
   ],
   "source": [
    "fires.columns"
   ]
  },
  {
   "cell_type": "code",
   "execution_count": 4,
   "id": "29dd36b1",
   "metadata": {},
   "outputs": [
    {
     "data": {
      "text/html": [
       "<div>\n",
       "<style scoped>\n",
       "    .dataframe tbody tr th:only-of-type {\n",
       "        vertical-align: middle;\n",
       "    }\n",
       "\n",
       "    .dataframe tbody tr th {\n",
       "        vertical-align: top;\n",
       "    }\n",
       "\n",
       "    .dataframe thead th {\n",
       "        text-align: right;\n",
       "    }\n",
       "</style>\n",
       "<table border=\"1\" class=\"dataframe\">\n",
       "  <thead>\n",
       "    <tr style=\"text-align: right;\">\n",
       "      <th></th>\n",
       "      <th>Date</th>\n",
       "      <th>Acres Burned</th>\n",
       "      <th>Number of Fires</th>\n",
       "      <th>Acres Burned per Fire</th>\n",
       "    </tr>\n",
       "  </thead>\n",
       "  <tbody>\n",
       "    <tr>\n",
       "      <th>2</th>\n",
       "      <td>200001</td>\n",
       "      <td>40757</td>\n",
       "      <td>2796</td>\n",
       "      <td>14.58</td>\n",
       "    </tr>\n",
       "    <tr>\n",
       "      <th>3</th>\n",
       "      <td>200002</td>\n",
       "      <td>208967</td>\n",
       "      <td>8467</td>\n",
       "      <td>24.68</td>\n",
       "    </tr>\n",
       "    <tr>\n",
       "      <th>4</th>\n",
       "      <td>200003</td>\n",
       "      <td>549866</td>\n",
       "      <td>18779</td>\n",
       "      <td>29.28</td>\n",
       "    </tr>\n",
       "    <tr>\n",
       "      <th>5</th>\n",
       "      <td>200004</td>\n",
       "      <td>732579</td>\n",
       "      <td>28015</td>\n",
       "      <td>26.15</td>\n",
       "    </tr>\n",
       "    <tr>\n",
       "      <th>6</th>\n",
       "      <td>200005</td>\n",
       "      <td>1027072</td>\n",
       "      <td>39865</td>\n",
       "      <td>25.76</td>\n",
       "    </tr>\n",
       "  </tbody>\n",
       "</table>\n",
       "</div>"
      ],
      "text/plain": [
       "     Date Acres Burned Number of Fires Acres Burned per Fire\n",
       "2  200001        40757            2796                 14.58\n",
       "3  200002       208967            8467                 24.68\n",
       "4  200003       549866           18779                 29.28\n",
       "5  200004       732579           28015                 26.15\n",
       "6  200005      1027072           39865                 25.76"
      ]
     },
     "execution_count": 4,
     "metadata": {},
     "output_type": "execute_result"
    }
   ],
   "source": [
    "# drop first 2 rows as they are unneeded\n",
    "fires.drop([fires.index[0], fires.index[1]], inplace = True)\n",
    "fires.head()"
   ]
  },
  {
   "cell_type": "code",
   "execution_count": 5,
   "id": "65dfd29d",
   "metadata": {},
   "outputs": [
    {
     "data": {
      "text/plain": [
       "Date                     object\n",
       "Acres Burned             object\n",
       "Number of Fires          object\n",
       "Acres Burned per Fire    object\n",
       "dtype: object"
      ]
     },
     "execution_count": 5,
     "metadata": {},
     "output_type": "execute_result"
    }
   ],
   "source": [
    "# identify data\n",
    "fires.dtypes"
   ]
  },
  {
   "cell_type": "code",
   "execution_count": 6,
   "id": "15802824",
   "metadata": {},
   "outputs": [
    {
     "data": {
      "text/plain": [
       "Date                     datetime64[ns]\n",
       "Acres Burned                      int64\n",
       "Number of Fires                   int64\n",
       "Acres Burned per Fire           float64\n",
       "dtype: object"
      ]
     },
     "execution_count": 6,
     "metadata": {},
     "output_type": "execute_result"
    }
   ],
   "source": [
    "# Fix Data Types\n",
    "\n",
    "# Date\n",
    "fires[\"Date\"] = pd.to_datetime(fires[\"Date\"], errors = \"coerce\", format = \"%Y%m\")\n",
    "\n",
    "# Acres burned\n",
    "fires[\"Acres Burned\"]= pd.to_numeric(fires[\"Acres Burned\"])\n",
    "\n",
    "# Number of fires\n",
    "fires[\"Number of Fires\"] = pd.to_numeric(fires[\"Number of Fires\"])\n",
    "\n",
    "# Acres Burned per Fire\n",
    "fires[\"Acres Burned per Fire\"]= pd.to_numeric(fires[\"Acres Burned per Fire\"])\n",
    "\n",
    "fires.dtypes"
   ]
  },
  {
   "cell_type": "code",
   "execution_count": 7,
   "id": "31bedc76",
   "metadata": {},
   "outputs": [
    {
     "data": {
      "text/html": [
       "<div>\n",
       "<style scoped>\n",
       "    .dataframe tbody tr th:only-of-type {\n",
       "        vertical-align: middle;\n",
       "    }\n",
       "\n",
       "    .dataframe tbody tr th {\n",
       "        vertical-align: top;\n",
       "    }\n",
       "\n",
       "    .dataframe thead th {\n",
       "        text-align: right;\n",
       "    }\n",
       "</style>\n",
       "<table border=\"1\" class=\"dataframe\">\n",
       "  <thead>\n",
       "    <tr style=\"text-align: right;\">\n",
       "      <th></th>\n",
       "      <th>Date</th>\n",
       "      <th>Acres Burned</th>\n",
       "      <th>Number of Fires</th>\n",
       "      <th>Acres Burned per Fire</th>\n",
       "    </tr>\n",
       "  </thead>\n",
       "  <tbody>\n",
       "    <tr>\n",
       "      <th>0</th>\n",
       "      <td>2000-01-01</td>\n",
       "      <td>40757</td>\n",
       "      <td>2796</td>\n",
       "      <td>14.58</td>\n",
       "    </tr>\n",
       "    <tr>\n",
       "      <th>1</th>\n",
       "      <td>2000-02-01</td>\n",
       "      <td>208967</td>\n",
       "      <td>8467</td>\n",
       "      <td>24.68</td>\n",
       "    </tr>\n",
       "    <tr>\n",
       "      <th>2</th>\n",
       "      <td>2000-03-01</td>\n",
       "      <td>549866</td>\n",
       "      <td>18779</td>\n",
       "      <td>29.28</td>\n",
       "    </tr>\n",
       "    <tr>\n",
       "      <th>3</th>\n",
       "      <td>2000-04-01</td>\n",
       "      <td>732579</td>\n",
       "      <td>28015</td>\n",
       "      <td>26.15</td>\n",
       "    </tr>\n",
       "    <tr>\n",
       "      <th>4</th>\n",
       "      <td>2000-05-01</td>\n",
       "      <td>1027072</td>\n",
       "      <td>39865</td>\n",
       "      <td>25.76</td>\n",
       "    </tr>\n",
       "  </tbody>\n",
       "</table>\n",
       "</div>"
      ],
      "text/plain": [
       "        Date  Acres Burned  Number of Fires  Acres Burned per Fire\n",
       "0 2000-01-01         40757             2796                  14.58\n",
       "1 2000-02-01        208967             8467                  24.68\n",
       "2 2000-03-01        549866            18779                  29.28\n",
       "3 2000-04-01        732579            28015                  26.15\n",
       "4 2000-05-01       1027072            39865                  25.76"
      ]
     },
     "execution_count": 7,
     "metadata": {},
     "output_type": "execute_result"
    }
   ],
   "source": [
    "# Reindex data\n",
    "fires.reset_index(drop = True, inplace = True)\n",
    "fires.head()"
   ]
  },
  {
   "cell_type": "code",
   "execution_count": 8,
   "id": "1d530a23",
   "metadata": {},
   "outputs": [
    {
     "data": {
      "text/plain": [
       "Date                     datetime64[ns]\n",
       "Acres Burned                      int64\n",
       "Number of Fires                   int64\n",
       "Acres Burned per Fire           float64\n",
       "Year of Fire                     string\n",
       "dtype: object"
      ]
     },
     "execution_count": 8,
     "metadata": {},
     "output_type": "execute_result"
    }
   ],
   "source": [
    "# Create a column for the year each fire occured\n",
    "fires[\"Year of Fire\"] = fires[\"Date\"].dt.year.astype(\"string\")\n",
    "fires.dtypes"
   ]
  },
  {
   "cell_type": "code",
   "execution_count": 9,
   "id": "68efffc2",
   "metadata": {},
   "outputs": [],
   "source": [
    "# Remove fires[\"Date\"]\n",
    "fires.drop(columns = \"Date\", inplace=True)"
   ]
  },
  {
   "cell_type": "code",
   "execution_count": 10,
   "id": "043e7f0b",
   "metadata": {},
   "outputs": [
    {
     "data": {
      "text/plain": [
       "Acres Burned             0\n",
       "Number of Fires          0\n",
       "Acres Burned per Fire    0\n",
       "Year of Fire             0\n",
       "dtype: int64"
      ]
     },
     "execution_count": 10,
     "metadata": {},
     "output_type": "execute_result"
    }
   ],
   "source": [
    "# Missing value check\n",
    "fires.isnull().sum()"
   ]
  },
  {
   "cell_type": "code",
   "execution_count": 11,
   "id": "3dba6cab",
   "metadata": {},
   "outputs": [
    {
     "data": {
      "text/plain": [
       "0"
      ]
     },
     "execution_count": 11,
     "metadata": {},
     "output_type": "execute_result"
    }
   ],
   "source": [
    "# Duplicate check\n",
    "fires.duplicated().sum()"
   ]
  },
  {
   "cell_type": "code",
   "execution_count": 12,
   "id": "916fb101",
   "metadata": {},
   "outputs": [],
   "source": [
    "profile = ProfileReport(fires, title= \"EDA of fires dataset\", explorative= True)"
   ]
  },
  {
   "cell_type": "code",
   "execution_count": 13,
   "id": "705484f9",
   "metadata": {},
   "outputs": [
    {
     "data": {
      "application/vnd.jupyter.widget-view+json": {
       "model_id": "bb8f742466d1457db7d09550558a6c2f",
       "version_major": 2,
       "version_minor": 0
      },
      "text/plain": [
       "Summarize dataset:   0%|          | 0/5 [00:00<?, ?it/s]"
      ]
     },
     "metadata": {},
     "output_type": "display_data"
    },
    {
     "data": {
      "application/vnd.jupyter.widget-view+json": {
       "model_id": "9cf20f1090da497a8e5d4efc24923cee",
       "version_major": 2,
       "version_minor": 0
      },
      "text/plain": [
       "Generate report structure:   0%|          | 0/1 [00:00<?, ?it/s]"
      ]
     },
     "metadata": {},
     "output_type": "display_data"
    },
    {
     "data": {
      "application/vnd.jupyter.widget-view+json": {
       "model_id": "",
       "version_major": 2,
       "version_minor": 0
      },
      "text/plain": [
       "Render widgets:   0%|          | 0/1 [00:00<?, ?it/s]"
      ]
     },
     "metadata": {},
     "output_type": "display_data"
    },
    {
     "data": {
      "application/vnd.jupyter.widget-view+json": {
       "model_id": "3699d4653dd6498d9b16ff87cb5a7024",
       "version_major": 2,
       "version_minor": 0
      },
      "text/plain": [
       "VBox(children=(Tab(children=(Tab(children=(GridBox(children=(VBox(children=(GridspecLayout(children=(HTML(valu…"
      ]
     },
     "metadata": {},
     "output_type": "display_data"
    }
   ],
   "source": [
    "profile.to_widgets()"
   ]
  },
  {
   "cell_type": "markdown",
   "id": "650e8b98",
   "metadata": {},
   "source": [
    "# Descriptive Analysis (Univariate Analysis)"
   ]
  },
  {
   "cell_type": "code",
   "execution_count": 14,
   "id": "43d8d155",
   "metadata": {},
   "outputs": [
    {
     "name": "stdout",
     "output_type": "stream",
     "text": [
      "<class 'pandas.core.frame.DataFrame'>\n",
      "RangeIndex: 269 entries, 0 to 268\n",
      "Data columns (total 4 columns):\n",
      " #   Column                 Non-Null Count  Dtype  \n",
      "---  ------                 --------------  -----  \n",
      " 0   Acres Burned           269 non-null    int64  \n",
      " 1   Number of Fires        269 non-null    int64  \n",
      " 2   Acres Burned per Fire  269 non-null    float64\n",
      " 3   Year of Fire           269 non-null    string \n",
      "dtypes: float64(1), int64(2), string(1)\n",
      "memory usage: 8.5 KB\n"
     ]
    }
   ],
   "source": [
    "fires.info()"
   ]
  },
  {
   "cell_type": "markdown",
   "id": "85071154",
   "metadata": {},
   "source": [
    "# Descriptive Analysis: Year of Fire"
   ]
  },
  {
   "cell_type": "code",
   "execution_count": 15,
   "id": "542616c2",
   "metadata": {},
   "outputs": [
    {
     "data": {
      "text/plain": [
       "23"
      ]
     },
     "execution_count": 15,
     "metadata": {},
     "output_type": "execute_result"
    }
   ],
   "source": [
    "# Check how many unique values there are\n",
    "fires[\"Year of Fire\"].nunique()\n"
   ]
  },
  {
   "cell_type": "code",
   "execution_count": 16,
   "id": "82a99731",
   "metadata": {},
   "outputs": [
    {
     "data": {
      "text/plain": [
       "2000    12\n",
       "2001    12\n",
       "2002    12\n",
       "2003    12\n",
       "2004    12\n",
       "2005    12\n",
       "2006    12\n",
       "2007    12\n",
       "2008    12\n",
       "2009    12\n",
       "2010    12\n",
       "2011    12\n",
       "2012    12\n",
       "2013    12\n",
       "2014    12\n",
       "2015    12\n",
       "2016    12\n",
       "2017    12\n",
       "2018    12\n",
       "2019    12\n",
       "2020    12\n",
       "2021    12\n",
       "2022     5\n",
       "Name: Year of Fire, dtype: Int64"
      ]
     },
     "execution_count": 16,
     "metadata": {},
     "output_type": "execute_result"
    }
   ],
   "source": [
    "# Check how much each value occurs\n",
    "fires[\"Year of Fire\"].value_counts()"
   ]
  },
  {
   "cell_type": "markdown",
   "id": "6ff50eb0",
   "metadata": {},
   "source": [
    "# Descriptive Analysis: Acres Burned"
   ]
  },
  {
   "cell_type": "code",
   "execution_count": 17,
   "id": "bcba5b29",
   "metadata": {},
   "outputs": [
    {
     "data": {
      "text/plain": [
       "count        269.00\n",
       "mean     3306598.11\n",
       "std      3154807.68\n",
       "min         3131.00\n",
       "25%       330447.00\n",
       "50%      2367271.00\n",
       "75%      5708150.00\n",
       "max     10274679.00\n",
       "Name: Acres Burned, dtype: float64"
      ]
     },
     "execution_count": 17,
     "metadata": {},
     "output_type": "execute_result"
    }
   ],
   "source": [
    "# Descriptive statistics\n",
    "pd.to_numeric(fires[\"Acres Burned\"].describe())"
   ]
  },
  {
   "cell_type": "code",
   "execution_count": 18,
   "id": "df72b111",
   "metadata": {},
   "outputs": [
    {
     "data": {
      "image/png": "[encoded data removed]",
      "text/plain": [
       "<Figure size 1800x360 with 1 Axes>"
      ]
     },
     "metadata": {
      "needs_background": "light"
     },
     "output_type": "display_data"
    }
   ],
   "source": [
    "# Quantile statistics\n",
    "fig, ax = plt.subplots(figsize=(25,5))\n",
    "sns.boxplot(data = fires, x = fires[\"Acres Burned\"])\n",
    "plt.ticklabel_format(style='plain', axis='x')"
   ]
  },
  {
   "cell_type": "code",
   "execution_count": 19,
   "id": "9885d9cb",
   "metadata": {},
   "outputs": [
    {
     "data": {
      "image/png": "[encoded data removed]",
      "text/plain": [
       "<Figure size 432x288 with 1 Axes>"
      ]
     },
     "metadata": {
      "needs_background": "light"
     },
     "output_type": "display_data"
    }
   ],
   "source": [
    "sns.histplot(data = fires, x = \"Acres Burned\", bins = 20)\n",
    "plt.ticklabel_format(style='plain', axis='x')"
   ]
  },
  {
   "cell_type": "markdown",
   "id": "c8f880fc",
   "metadata": {},
   "source": [
    "# Descriptive Analysis: Number of Fires"
   ]
  },
  {
   "cell_type": "code",
   "execution_count": 20,
   "id": "ae89605c",
   "metadata": {},
   "outputs": [
    {
     "data": {
      "text/plain": [
       "count     269.00\n",
       "mean    36565.66\n",
       "std     24715.27\n",
       "min       387.00\n",
       "25%     14781.00\n",
       "50%     36656.00\n",
       "75%     55533.00\n",
       "max     96385.00\n",
       "Name: Number of Fires, dtype: float64"
      ]
     },
     "execution_count": 20,
     "metadata": {},
     "output_type": "execute_result"
    }
   ],
   "source": [
    "pd.to_numeric(fires[\"Number of Fires\"].describe())"
   ]
  },
  {
   "cell_type": "code",
   "execution_count": 21,
   "id": "c07d65e4",
   "metadata": {},
   "outputs": [
    {
     "data": {
      "text/plain": [
       "<AxesSubplot:xlabel='Number of Fires'>"
      ]
     },
     "execution_count": 21,
     "metadata": {},
     "output_type": "execute_result"
    },
    {
     "data": {
      "image/png": "[encoded data removed]",
      "text/plain": [
       "<Figure size 1800x360 with 1 Axes>"
      ]
     },
     "metadata": {
      "needs_background": "light"
     },
     "output_type": "display_data"
    }
   ],
   "source": [
    "fig, ax = plt.subplots(figsize =(25, 5))\n",
    "sns.boxplot(data = fires, x = fires[\"Number of Fires\"])"
   ]
  },
  {
   "cell_type": "code",
   "execution_count": 22,
   "id": "4d14b309",
   "metadata": {},
   "outputs": [
    {
     "data": {
      "image/png": "[encoded data removed]",
      "text/plain": [
       "<Figure size 432x288 with 1 Axes>"
      ]
     },
     "metadata": {
      "needs_background": "light"
     },
     "output_type": "display_data"
    }
   ],
   "source": [
    "sns.histplot(data = fires, x = \"Number of Fires\", bins = 40, kde = True)\n",
    "plt.ticklabel_format(style='plain', axis='x')"
   ]
  },
  {
   "cell_type": "markdown",
   "id": "c571470c",
   "metadata": {},
   "source": [
    "# Descriptive Analysis: Acres Burned per Fire"
   ]
  },
  {
   "cell_type": "code",
   "execution_count": 23,
   "id": "50f02506",
   "metadata": {},
   "outputs": [
    {
     "data": {
      "text/plain": [
       "count   269.00\n",
       "mean     70.04\n",
       "std      49.08\n",
       "min       5.82\n",
       "25%      22.35\n",
       "50%      64.40\n",
       "75%     104.10\n",
       "max     187.19\n",
       "Name: Acres Burned per Fire, dtype: float64"
      ]
     },
     "execution_count": 23,
     "metadata": {},
     "output_type": "execute_result"
    }
   ],
   "source": [
    "pd.to_numeric(fires[\"Acres Burned per Fire\"].describe())"
   ]
  },
  {
   "cell_type": "code",
   "execution_count": 24,
   "id": "ed810fa3",
   "metadata": {},
   "outputs": [
    {
     "data": {
      "text/plain": [
       "<AxesSubplot:xlabel='Acres Burned per Fire'>"
      ]
     },
     "execution_count": 24,
     "metadata": {},
     "output_type": "execute_result"
    },
    {
     "data": {
      "image/png": "[encoded data removed]",
      "text/plain": [
       "<Figure size 1800x360 with 1 Axes>"
      ]
     },
     "metadata": {
      "needs_background": "light"
     },
     "output_type": "display_data"
    }
   ],
   "source": [
    "fig, ax = plt.subplots(figsize =(25, 5))\n",
    "sns.boxplot(data = fires, x = fires[\"Acres Burned per Fire\"])"
   ]
  },
  {
   "cell_type": "code",
   "execution_count": 25,
   "id": "2b2fb7f1",
   "metadata": {},
   "outputs": [
    {
     "data": {
      "image/png": "[encoded data removed]",
      "text/plain": [
       "<Figure size 432x288 with 1 Axes>"
      ]
     },
     "metadata": {
      "needs_background": "light"
     },
     "output_type": "display_data"
    }
   ],
   "source": [
    "sns.histplot(data = fires, x = \"Acres Burned per Fire\", bins = 40, kde = True)\n",
    "plt.ticklabel_format(style='plain', axis='x')"
   ]
  },
  {
   "cell_type": "markdown",
   "id": "8c203adc",
   "metadata": {},
   "source": [
    "# Correlation Analysis (Bivariate Analysis)"
   ]
  },
  {
   "cell_type": "code",
   "execution_count": 26,
   "id": "9068ed32",
   "metadata": {},
   "outputs": [
    {
     "data": {
      "text/plain": [
       "<AxesSubplot:xlabel='Number of Fires', ylabel='Year of Fire'>"
      ]
     },
     "execution_count": 26,
     "metadata": {},
     "output_type": "execute_result"
    },
    {
     "data": {
      "image/png": "[encoded data removed]",
      "text/plain": [
       "<Figure size 1080x576 with 1 Axes>"
      ]
     },
     "metadata": {
      "needs_background": "light"
     },
     "output_type": "display_data"
    }
   ],
   "source": [
    "fig, ax = plt.subplots(figsize = (15, 8))\n",
    "sns.barplot(x = \"Number of Fires\", y = \"Year of Fire\", data = fires)"
   ]
  },
  {
   "cell_type": "code",
   "execution_count": 27,
   "id": "5d7011c2",
   "metadata": {},
   "outputs": [
    {
     "data": {
      "text/plain": [
       "<AxesSubplot:xlabel='Acres Burned', ylabel='Acres Burned per Fire'>"
      ]
     },
     "execution_count": 27,
     "metadata": {},
     "output_type": "execute_result"
    },
    {
     "data": {
      "image/png": "[encoded data removed]",
      "text/plain": [
       "<Figure size 432x288 with 1 Axes>"
      ]
     },
     "metadata": {
      "needs_background": "light"
     },
     "output_type": "display_data"
    }
   ],
   "source": [
    "sns.scatterplot(data = fires, x = \"Acres Burned\", y = \"Acres Burned per Fire\")"
   ]
  },
  {
   "cell_type": "markdown",
   "id": "5577359f",
   "metadata": {},
   "source": [
    "# Find Column Totals By Year"
   ]
  },
  {
   "cell_type": "code",
   "execution_count": 28,
   "id": "2ec49a91",
   "metadata": {},
   "outputs": [],
   "source": [
    "# Add totals to a list\n",
    "fires_totals = fires[\"Number of Fires\"].groupby(fires[\"Year of Fire\"]).agg('sum')\n",
    "acres_totals = fires[\"Acres Burned\"].groupby(fires[\"Year of Fire\"]).agg('sum')\n",
    "acres_per_fire_totals = fires[\"Acres Burned per Fire\"].groupby(fires[\"Year of Fire\"]).agg('sum')\n",
    "# Add List to dataframe\n",
    "#fires_totals\n",
    "#acres_totals\n",
    "#acres_per_fire_totals"
   ]
  },
  {
   "cell_type": "code",
   "execution_count": 29,
   "id": "8a046c4e",
   "metadata": {},
   "outputs": [],
   "source": [
    "fires.to_excel(\"fires_data.xlsx\")"
   ]
  },
  {
   "cell_type": "code",
   "execution_count": null,
   "id": "30334d38",
   "metadata": {},
   "outputs": [],
   "source": []
  }
 ],
 "metadata": {
  "kernelspec": {
   "display_name": "Python 3 (ipykernel)",
   "language": "python",
   "name": "python3"
  },
  "language_info": {
   "codemirror_mode": {
    "name": "ipython",
    "version": 3
   },
   "file_extension": ".py",
   "mimetype": "text/x-python",
   "name": "python",
   "nbconvert_exporter": "python",
   "pygments_lexer": "ipython3",
   "version": "3.9.0"
  }
 },
 "nbformat": 4,
 "nbformat_minor": 5
}
